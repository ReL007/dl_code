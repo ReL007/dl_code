{
 "cells": [
  {
   "cell_type": "code",
   "execution_count": 10,
   "metadata": {},
   "outputs": [],
   "source": [
    "import torch\n",
    "import torch.nn as nn\n",
    "import torch.optim as optim\n",
    "import torch.nn.functional as F\n",
    "from torch.utils.data import DataLoader\n",
    "from torchvision import datasets, transforms\n",
    "\n",
    "import numpy as np\n",
    "import matplotlib.pyplot as plt\n",
    "from tqdm import tqdm "
   ]
  },
  {
   "cell_type": "code",
   "execution_count": 13,
   "metadata": {},
   "outputs": [],
   "source": [
    "class VAE(nn.Module):\n",
    "    def __init__(self, input_dim, hidden_dim, latent_dim):\n",
    "        super(VAE, self).__init__()\n",
    "        \n",
    "        # encoder\n",
    "        self.encoder = nn.Sequential(\n",
    "            nn.Linear(input_dim, hidden_dim),\n",
    "            nn.ReLU(),\n",
    "            nn.Linear(hidden_dim, hidden_dim),\n",
    "            nn.ReLU()         \n",
    "        )\n",
    "        \n",
    "        # mu cov in latent space\n",
    "        self.fc_mu = nn.Linear(hidden_dim, latent_dim)\n",
    "        self.fc_logvar = nn.Linear(hidden_dim, latent_dim)\n",
    "        \n",
    "        # decoder (only for Bernoulli)\n",
    "        self.decoder = nn.Sequential(\n",
    "            nn.Linear(latent_dim, hidden_dim),\n",
    "            nn.ReLU(),\n",
    "            nn.Linear(hidden_dim, hidden_dim),\n",
    "            nn.ReLU(),\n",
    "            nn.Linear(hidden_dim, input_dim),\n",
    "            nn.Sigmoid()  \n",
    "        )\n",
    "     # self.decoder_mean = nn.Sequential(
    "     #    nn.Linear(latent_dim, hidden_dim),
    "     #    nn.ReLU(),
    "     #    nn.Linear(hidden_dim, hidden_dim),
    "     #    nn.ReLU(),
    "     #    nn.Linear(hidden_dim, input_dim),
    "     #    nn.Tanh()
    "     # )
    "     \n"
    "     #     self.decoder_logvar = nn.Sequential(
    "     #     nn.Linear(latent_dim, hidden_dim),
    "     #     nn.ReLU(),
    "     #     nn.Linear(hidden_dim, input_dim)
    "     #     )
    "     \n"
def decode(self, z):
    return self.decoder_mean(z), self.decoder_logvar(z)
    "        \n",
    "    # encode as a function\n",
    "    def encode(self, x):\n",
    "        h = self.encoder(x)\n",
    "        mu = self.fc_mu(h)\n",
    "        logvar = self.fc_logvar(h)\n",
    "        return mu, logvar\n",
    "    \n",
    "    # decode as a function\n",
    "    def decode(self, z):\n",
    "        return self.decoder(z)\n",
    "    \n",
    "    # reparameterize (for compute Gd of the encoder)\n",
    "    def reparameterize(self, mu, logvar):\n",
    "        std = torch.exp(0.5 * logvar)\n",
    "        eps = torch.randn_like(std)\n",
    "        return mu + eps * std\n",
    "    \n",
    "    def forward(self, x):\n",
    "        mu, logvar = self.encode(x.view(-1, input_dim))\n",
    "        z = self.reparameterize(mu, logvar)\n",
    "        return self.decode(z), mu, logvar\n",
    "\n",
    "# a flexible loss (but not that general) \n",
    "class ModernVAELoss(nn.Module):\n",
    "    def __init__(self, \n",
    "                 recon_type='bernoulli', \n",
    "                 beta=1.0, \n",
    "                 sigma=1.0,\n",
    "                 free_bits=0.0,\n",
    "                 learn_variance=False,\n",
    "                 reduction='mean'):\n",
    "        super().__init__()\n",
    "        self.recon_type = recon_type\n",
    "        self.beta = beta\n",
    "        self.sigma = sigma\n",
    "        self.free_bits = free_bits\n",
    "        self.learn_variance = learn_variance\n",
    "        self.reduction = reduction\n",
    "    \n",
    "    def reconstruction_loss(self, recon_params, x):\n",
    "        if self.learn_variance:\n",
    "            if self.recon_type == 'gaussian':\n",
    "                mean, logvar = recon_params\n",
    "                return 0.5 * torch.sum(\n",
    "                    logvar + (x - mean).pow(2) / logvar.exp() + \n",
    "                    torch.log(2 * torch.pi),\n",
    "                dim=-1\n",
    "            )\n",
    "            elif self.recon_type == 'bernoulli':\n",
    "                logits = recon_params[0]\n",
    "                return F.binary_cross_entropy_with_logits(\n",
    "                    logits, x, reduction='none'\n",
    "                ).sum(dim=-1)\n",
    "        else:\n",
    "            if self.recon_type == 'bernoulli':\n",
    "                return F.binary_cross_entropy(\n",
    "                    recon_params, x, reduction='none'\n",
    "                ).sum(dim=-1)\n",
    "            elif self.recon_type == 'gaussian':\n",
    "                return 0.5 * (x - recon_params).pow(2).sum(dim=-1) / (self.sigma**2)\n",
    "    \n",
    "    def kld_loss(self, mu, logvar):\n",
    "        kl = -0.5 * (1 + logvar - mu.pow(2) - logvar.exp())\n",
    "        kl = torch.sum(kl, dim=-1)\n",
    "        \n",
    "        if self.free_bits > 0:\n",
    "            kl = torch.max(kl, kl.new_full(kl.size(), self.free_bits))\n",
    "        \n",
    "        return kl\n",
    "    \n",
    "    def forward(self, recon_params, x, mu, logvar, beta=None):\n",
    "        beta = self.beta if beta is None else beta\n",
    "        \n",
    "        # 展平输入\n",
    "        x_flat = x.view(x.size(0), -1)\n",
    "        \n",
    "        # 计算损失\n",
    "        recon_loss = self.reconstruction_loss(recon_params, x_flat)\n",
    "        kld = self.kld_loss(mu, logvar)\n",
    "        \n",
    "        total_loss = recon_loss + beta * kld\n",
    "        \n",
    "        if self.reduction == 'sum':\n",
    "            return total_loss.sum()\n",
    "        elif self.reduction == 'mean':\n",
    "            return total_loss.mean()\n",
    "        else:\n",
    "            return total_loss              "
   ]
  },
  {
   "cell_type": "code",
   "execution_count": 14,
   "metadata": {},
   "outputs": [
    {
     "name": "stderr",
     "output_type": "stream",
     "text": [
      "100%|██████████| 469/469 [00:09<00:00, 47.30it/s]\n"
     ]
    },
    {
     "name": "stdout",
     "output_type": "stream",
     "text": [
      "Epoch 1: Average loss: 1.3987\n"
     ]
    },
    {
     "name": "stderr",
     "output_type": "stream",
     "text": [
      "100%|██████████| 469/469 [00:09<00:00, 51.83it/s]\n"
     ]
    },
    {
     "name": "stdout",
     "output_type": "stream",
     "text": [
      "Epoch 2: Average loss: 1.0182\n"
     ]
    },
    {
     "name": "stderr",
     "output_type": "stream",
     "text": [
      "100%|██████████| 469/469 [00:08<00:00, 52.68it/s]\n"
     ]
    },
    {
     "name": "stdout",
     "output_type": "stream",
     "text": [
      "Epoch 3: Average loss: 0.9245\n"
     ]
    },
    {
     "name": "stderr",
     "output_type": "stream",
     "text": [
      "100%|██████████| 469/469 [00:08<00:00, 52.92it/s]\n"
     ]
    },
    {
     "name": "stdout",
     "output_type": "stream",
     "text": [
      "Epoch 4: Average loss: 0.8845\n"
     ]
    },
    {
     "name": "stderr",
     "output_type": "stream",
     "text": [
      "100%|██████████| 469/469 [00:08<00:00, 53.21it/s]\n"
     ]
    },
    {
     "name": "stdout",
     "output_type": "stream",
     "text": [
      "Epoch 5: Average loss: 0.8612\n"
     ]
    },
    {
     "name": "stderr",
     "output_type": "stream",
     "text": [
      "100%|██████████| 469/469 [00:08<00:00, 54.97it/s]\n"
     ]
    },
    {
     "name": "stdout",
     "output_type": "stream",
     "text": [
      "Epoch 6: Average loss: 0.8456\n"
     ]
    },
    {
     "name": "stderr",
     "output_type": "stream",
     "text": [
      "100%|██████████| 469/469 [00:08<00:00, 53.57it/s]\n"
     ]
    },
    {
     "name": "stdout",
     "output_type": "stream",
     "text": [
      "Epoch 7: Average loss: 0.8335\n"
     ]
    },
    {
     "name": "stderr",
     "output_type": "stream",
     "text": [
      "100%|██████████| 469/469 [00:08<00:00, 53.99it/s]\n"
     ]
    },
    {
     "name": "stdout",
     "output_type": "stream",
     "text": [
      "Epoch 8: Average loss: 0.8243\n"
     ]
    },
    {
     "name": "stderr",
     "output_type": "stream",
     "text": [
      "100%|██████████| 469/469 [00:08<00:00, 53.60it/s]\n"
     ]
    },
    {
     "name": "stdout",
     "output_type": "stream",
     "text": [
      "Epoch 9: Average loss: 0.8166\n"
     ]
    },
    {
     "name": "stderr",
     "output_type": "stream",
     "text": [
      "100%|██████████| 469/469 [00:08<00:00, 53.37it/s]\n"
     ]
    },
    {
     "name": "stdout",
     "output_type": "stream",
     "text": [
      "Epoch 10: Average loss: 0.8098\n"
     ]
    },
    {
     "name": "stderr",
     "output_type": "stream",
     "text": [
      "100%|██████████| 469/469 [00:08<00:00, 53.15it/s]\n"
     ]
    },
    {
     "name": "stdout",
     "output_type": "stream",
     "text": [
      "Epoch 11: Average loss: 0.8050\n"
     ]
    },
    {
     "name": "stderr",
     "output_type": "stream",
     "text": [
      "100%|██████████| 469/469 [00:08<00:00, 54.33it/s]\n"
     ]
    },
    {
     "name": "stdout",
     "output_type": "stream",
     "text": [
      "Epoch 12: Average loss: 0.8007\n"
     ]
    },
    {
     "name": "stderr",
     "output_type": "stream",
     "text": [
      "100%|██████████| 469/469 [00:09<00:00, 51.76it/s]\n"
     ]
    },
    {
     "name": "stdout",
     "output_type": "stream",
     "text": [
      "Epoch 13: Average loss: 0.7969\n"
     ]
    },
    {
     "name": "stderr",
     "output_type": "stream",
     "text": [
      "100%|██████████| 469/469 [00:08<00:00, 54.43it/s]\n"
     ]
    },
    {
     "name": "stdout",
     "output_type": "stream",
     "text": [
      "Epoch 14: Average loss: 0.7935\n"
     ]
    },
    {
     "name": "stderr",
     "output_type": "stream",
     "text": [
      "100%|██████████| 469/469 [00:08<00:00, 53.29it/s]\n"
     ]
    },
    {
     "name": "stdout",
     "output_type": "stream",
     "text": [
      "Epoch 15: Average loss: 0.7908\n"
     ]
    },
    {
     "name": "stderr",
     "output_type": "stream",
     "text": [
      "100%|██████████| 469/469 [00:09<00:00, 51.73it/s]\n"
     ]
    },
    {
     "name": "stdout",
     "output_type": "stream",
     "text": [
      "Epoch 16: Average loss: 0.7884\n"
     ]
    },
    {
     "name": "stderr",
     "output_type": "stream",
     "text": [
      "100%|██████████| 469/469 [00:09<00:00, 50.62it/s]\n"
     ]
    },
    {
     "name": "stdout",
     "output_type": "stream",
     "text": [
      "Epoch 17: Average loss: 0.7859\n"
     ]
    },
    {
     "name": "stderr",
     "output_type": "stream",
     "text": [
      "100%|██████████| 469/469 [00:08<00:00, 54.52it/s]\n"
     ]
    },
    {
     "name": "stdout",
     "output_type": "stream",
     "text": [
      "Epoch 18: Average loss: 0.7840\n"
     ]
    },
    {
     "name": "stderr",
     "output_type": "stream",
     "text": [
      "100%|██████████| 469/469 [00:08<00:00, 53.51it/s]\n"
     ]
    },
    {
     "name": "stdout",
     "output_type": "stream",
     "text": [
      "Epoch 19: Average loss: 0.7822\n"
     ]
    },
    {
     "name": "stderr",
     "output_type": "stream",
     "text": [
      "100%|██████████| 469/469 [00:08<00:00, 53.81it/s]\n"
     ]
    },
    {
     "name": "stdout",
     "output_type": "stream",
     "text": [
      "Epoch 20: Average loss: 0.7805\n"
     ]
    },
    {
     "data": {
      "image/png": "iVBORw0KGgoAAAANSUhEUgAABOwAAAFrCAYAAABiyBZCAAAAOXRFWHRTb2Z0d2FyZQBNYXRwbG90bGliIHZlcnNpb24zLjcuMiwgaHR0cHM6Ly9tYXRwbG90bGliLm9yZy8pXeV/AAAACXBIWXMAAA9hAAAPYQGoP6dpAABH+UlEQVR4nO3debye45k48DuC7HtCCLJIgkoRNLEmQmrf0lJFS42inRbtjFLmN0KnTIuqbVqtxm4Mo7W0tpQi1rRU7EtsIRFEVoksSH5/9FOd57nu9ryOszznnO/38+kf1+U677nPee887/Pefc91tVu1atWqBAAAAABUwmrNvQAAAAAA4G8c2AEAAABAhTiwAwAAAIAKcWAHAAAAABXiwA4AAAAAKsSBHQAAAABUiAM7AAAAAKgQB3YAAAAAUCEO7AAAAACgQhzYAQBUwOWXX57atWuXHn300eZeCgAAzcyBHQDQJvz1QOzv/e+RRx5p7iV+KnfffXf6p3/6pzR8+PDUuXPnNGTIkPT1r389zZ49O1v/0EMPpR122CF17tw59e/fPx133HFp8eLFTbxqAAByVm/uBQAANKUf/OAHafDgwSE/dOjQZlhNwznppJPSvHnz0oEHHpiGDRuWXnnllXTRRRel3/3ud2natGmpf//+H9dOmzYt7bLLLmmTTTZJ5557bpo5c2Y655xz0vTp09Ptt9/ejD8FAAApObADANqYPfbYI2299dbNvYwGd+6556Yddtghrbba3/6AYvfdd09jx45NF110UfrhD3/4cf6UU05JvXr1Svfee2/q3r17SimlQYMGpaOOOipNnjw57brrrk2+fgAA/safxAIA/B+vvfZaateuXTrnnHPST3/60zRw4MDUqVOnNHbs2PT000+H+j/84Q9pxx13TF26dEk9e/ZM++23X3ruuedC3axZs9KRRx6Z1l133dShQ4c0ePDg9M1vfjOtWLGiULd8+fL0L//yL6lfv36pS5cuacKECWnOnDl1rnvMmDGFw7q/5nr37l1Yz6JFi9Lvf//79JWvfOXjw7qUUjrssMNS165d0/XXX1/n9wIAoHH5hB0A0KYsXLgwvfvuu4Vcu3btUp8+fQq5K6+8Mr333nvpW9/6Vlq2bFk6//zz084775yeeuqptPbaa6eUUrrrrrvSHnvskYYMGZJOO+20tHTp0nThhRem7bffPv35z39OgwYNSiml9Oabb6ZRo0alBQsWpKOPPjptvPHGadasWemGG25I77//flpzzTU//r7HHnts6tWrV5o4cWJ67bXX0nnnnZe+/e1vp+uuu+4T/6yLFy9OixcvTn379v0499RTT6UPP/wwfMpwzTXXTFtssUV6/PHHP/H3AQCgYTmwAwDalPHjx4dchw4d0rJlywq5l156KU2fPj0NGDAgpfSXPy8dPXp0+vGPf5zOPffclFJK3/ve91Lv3r3Tww8/nHr37p1SSmn//fdPI0eOTBMnTkxXXHFFSimlk08+Ob311ltp6tSphYOyH/zgB2nVqlWF79unT580efLk1K5du5RSSitXrkwXXHBBWrhwYerRo8cn+lnPO++8tGLFinTQQQd9nPvrEIp11lkn1K+zzjrp/vvv/0TfAwCAhufADgBoU/7rv/4rDR8+vJBr3759qNt///0/PqxLKaVRo0al0aNHp9tuuy2de+65afbs2WnatGnpxBNP/PiwLqWUNttss/T5z38+3XbbbSmlvxy43XTTTWmfffbJ9s7768HcXx199NGF3I477ph++tOfphkzZqTNNtus5p9zypQp6fTTT09f+tKX0s477/xxfunSpSmlvxxSlnXs2PHj/w4AQPNxYAcAtCmjRo2qaejEsGHDQm748OEf93ibMWNGSimljTbaKNRtsskm6c4770xLlixJixcvTosWLUojRoyoaX0bbLBBIe7Vq1dKKaX58+fX9PUppfT888+nCRMmpBEjRqRf/epXhf/WqVOnlNJfeuWVLVu27OP/DgBA8zF0AgCgQnKf9ksphT+d/XveeOONtOuuu6YePXqk2267LXXr1q3w3//6p7B//dPY/2v27Nlp3XXX/YQrBgCgoTmwAwDImD59esi9+OKLHw+SGDhwYEoppRdeeCHUPf/886lv376pS5cuqV+/fql79+7ZCbMNbe7cuWnXXXdNy5cvT3feeWe2T92IESPS6quvnh599NFCfsWKFWnatGlpiy22aPR1AgDwjzmwAwDIuOmmm9KsWbM+jv/4xz+mqVOnpj322COl9JdPqm2xxRbpiiuuSAsWLPi47umnn06TJ09Oe+65Z0oppdVWWy3tv//+6be//W04JEup9k/O1WXJkiVpzz33TLNmzUq33XZb9k96U0qpR48eafz48enqq69O77333sf5q666Ki1evDgdeOCBDbIeAADqTw87AKBNuf3229Pzzz8f8tttt10aMmTIx/HQoUPTDjvskL75zW+m5cuXp/POOy/16dMnnXjiiR/XnH322WmPPfZI2267bTryyCPT0qVL04UXXph69OiRTjvttI/rzjzzzDR58uQ0duzYdPTRR6dNNtkkzZ49O/3v//5veuCBB1LPnj0/9c916KGHpj/+8Y/pn/7pn9Jzzz2XnnvuuY//W9euXdP+++//cXzGGWek7bbb7uP1zJw5M/3kJz9Ju+66a9p9990/9VoAAPh0HNgBAG3Kqaeems1fdtllhQO7ww47LK222mrpvPPOS++8804aNWpUuuiiiwp/Zjp+/Ph0xx13pIkTJ6ZTTz01rbHGGmns2LHpxz/+cRo8ePDHdQMGDEhTp05N//7v/56uueaatGjRojRgwIC0xx57pM6dOzfIzzVt2rSUUkqXXnppuvTSSwv/beDAgYUDuy233DLddddd6aSTTkrf/e53U7du3dKRRx6Z/vM//7NB1gIAwKfTblVD/R0GAEAr8Nprr6XBgwens88+O51wwgnNvRwAANogPewAAAAAoEIc2AEAAABAhTiwAwAAAIAK0cMOAAAAACrEJ+wAAAAAoEIc2AEAAABAhTiwAwAAAIAKcWAHAAAAABXiwA4AAAAAKsSBHQAAAABUiAM7AAAAAKgQB3YAAAAAUCEO7AAAAACgQhzYAQAAAECFOLADAAAAgApxYAcAAAAAFeLADgAAAAAqxIEdAAAAAFSIAzsAAAAAqBAHdgAAAABQIQ7sAAAAAKBCHNgBAAAAQIU4sAMAAACACnFgBwAAAAAV4sAOAAAAACrEgR0AAAAAVIgDOwAAAACoEAd2AAAAAFAhq9da2K5du8ZcBy3MqlWrmuT72Hf8X02171Ky9yhyzaM52Hc0B/uO5uAej+bimkdzqHXf+YQdAAAAAFSIAzsAAAAAqBAHdgAAAABQIQ7sAAAAAKBCHNgBAAAAQIU4sAMAAACACnFgBwAAAAAV4sAOAAAAACrEgR0AAAAAVIgDOwAAAACoEAd2AAAAAFAhDuwAAAAAoEIc2AEAAABAhaze3AsAAID6WG21+P899+3bN+SOPPLIQrzvvvuGmm222abO7zd48OCQe+211+r8OgCAT8on7AAAAACgQhzYAQAAAECFOLADAAAAgApxYAcAAAAAFdJu1apVq2oqbNeusddCC1LjtvnU7Dv+r6badynZexS55jWcbt26FeLHHnss1CxdujTkxo0bV4jnzZvXsAuroLa073bZZZeQ69SpUyHecMMNQ83ee+8dcsOGDQu59ddf/1Os7m9y+3XUqFEN8thV0Zb2XS369OkTcpMnTw65Lbfcsl6PP2XKlJD79a9/XYivueaaUDN37tx6fb+qco9Hc3HNoznUuu98wg4AAAAAKsSBHQAAAABUiAM7AAAAAKgQB3YAAAAAUCGGTjSArbfeuhDffvvtoebpp58OuS984QshN3/+/IZbWCPSnJPmoCFxwzrttNMK8cSJE2v6unvvvbcQ33fffXXW/L1cS+Ga13DWWmutQvzmm2/W9HXnn39+If7Xf/3XBltTVbWWfTd06NBCnGvYv95664Vc+/bt63zsDz/8MOTuuuuukLvlllsK8Z133hlqNt9885D7zW9+U4jnzJkTatZdd92QW7lyZVxsC9Fa9l1DmTBhQsiVh0I0tjfeeCPkjjnmmJC74447mmI5jcI9Hs2lrV/zxo4dW4hz9/VVcPDBB4fciSeeGHKbbbZZId55551DTRV+RkMnAAAAAKAFcmAHAAAAABXiwA4AAAAAKkQPu39gjTXWCLlLL7005Pbdd99C3LVr15oe/8orrwy5I444osbVNa+2/rf+Te3UU08Nua9+9auFeNCgQaHmiiuuqNf3W7RoUcj97Gc/C7mXXnqpXo9fX/qb1Kbcmy6l2vvTNbXTTz+9EOfWXgWueQ2nvj3spk+fXohz/cZWrFhR/4VVUGvZd0899VQh/sxnPhNq5s6dG3JvvfVWIb7xxhtDzVlnnRVyS5Ys+aRLTCmlNHr06JB76KGHCvFHH30Uasr3gSnpJVaLlny9u/vuu0OuZ8+eIbdgwYI6Hyv3dSNHjqzz65YtWxZy2223XchNmzatzseqAvd49Zd7D7DhhhsW4v79+4eaz3/+8yFX7h166KGH1rSGPffcM+RaynWwLV3zbrrpppDbaaedCvHChQtDzaRJk0LuBz/4QUMtK1h//fVDLtf/dtiwYXU+1nnnnRdyJ5xwQr3W1ZD0sAMAAACAFsiBHQAAAABUiAM7AAAAAKgQB3YAAAAAUCGrN/cCqmTcuHGF+Oc//3moyTU2LDeQzDUQfP3110Pu/PPP/6RLpBU68MADC/G///u/h5rcvuvYsWOdj33kkUfWf2ElAwYMCLkvf/nLhbgpGwbzFw05YOLee+8Nufvuu6/Orxs7dmzIlRvY/j3ltVZ16ATNb/jw4YV42223DTW17Fea3nHHHVdnzRtvvBFyTT3YqBbz5s0LuZbSWJ2Gs8cee4TcaqvFz0HkBkOUderUKeTKg0yuvfbaUJO7D5wwYULIPfnkk4V45cqVda6JxrfRRhuF3PXXX1+Ie/XqVdNjdevWLeR69OhRv4XV0/jx40POtbF6+vXrF3LlgZm5AZrHHHNMyOXOSubMmVOvdW2zzTaFODcoopYBEzm5c5iWxCfsAAAAAKBCHNgBAAAAQIU4sAMAAACACnFgBwAAAAAV0maHTpx11lkh97Wvfa0Q9+nTp16PnWvc/i//8i8h98QTT4Tc0KFDC3EVGy5Tf9/73vdC7sQTTyzEffv2bbDvN3/+/JDr3LlzyHXo0KHOx8oNFlhzzTUL8fLlyz/B6qiPe+65pxDXOtwh5/TTTy/EDTnwIbeu3DCMcl1uDQZRtC7lpv2TJ08ONbvuumtTLYcmUL5utWSPPfZYcy+BClixYkWDPdbSpUtD7je/+U0h/o//+I9QkxtSlsvdeOONhXjatGmfcIU0htywkfJ90o9+9KNQk7vXnjlzZsjV8jwvWrQo5G666aZCvP3224eas88+u87HpnXp379/yB177LEhd8kllxTi3PCT3HXqgAMOKMS1DjL86KOPQu7iiy8uxBdccEFNj1VVPmEHAAAAABXiwA4AAAAAKsSBHQAAAABUSJvoYff5z38+5A4//PCQq6Vn3aRJk0LuuuuuK8T33XdfqPnqV78acuecc07IbbjhhoX45ZdfrnNNKaV0ww03FOJHH3001Oi70njat28fcoceemjI5XqQ1NI/bsGCBSFX7n2xcuXKUHPrrbeG3PDhw0Nu1KhRda7h5ptvDrlc3wAaVy0963J9NMeNG9fwi/mEa8it/dP04KNl6t27dyHebbfdavq6du3aNcZy4GM777xznTW33HJLE6yEtu6DDz4oxOeee26oOeaYY0JurbXWCrndd9+9EOthVw2556GcK/eTaw4N2Vub1uWUU06pKdeYyv3qUkrp+OOPb9I1NDafsAMAAACACnFgBwAAAAAV4sAOAAAAACrEgR0AAAAAVEirGzqx+eabh9zVV18dcrU00Fy+fHnI/e53vwu5WbNm1fn99tlnn5Dr2LFjnWsYOHBgnTUpxUbJS5YsCTWDBw8Oublz59b0+PxjRxxxRMhdcskl9XqsV155JeS22mqrkNtjjz0K8VNPPRVqPvvZz4bcAQccUK91PfjggyH34Ycf1uuxqL/TTz+9EOeGO+RyTe20004LuYkTJzb9Qqi8VatW1evrhgwZEnK5oU+Q061bt5CrpVF1edAYfBJDhw4Nudy91GabbVaIc6+fuQET0NAOOuig5l4CDSg3wKuWoV6rrRY/55UbeFhf5cfPPfb2228fco888kiDraGqfMIOAAAAACrEgR0AAAAAVIgDOwAAAACoEAd2AAAAAFAhLX7oxNprr12IjzvuuFBTy4CJnA4dOoTcjTfeGHLlRo31baDdkLp06RJyd955Z8htvfXWTbGcFm3UqFEh96//+q+FeM8996zpsRYuXBhy5T172223hZoFCxaE3LXXXlvn98s10F5zzTXr/LqcOXPm1OvraFi5YQ7NrSEHTFTx56Nhbbrppg3yOGPGjAm5yy67rEEem9bvmGOOCbl+/fqF3KOPPlqIly1b1mhrovUpD5i74YYbQs3w4cNDrnyvlmv4Xqu20JSdhlPes3vttVdNX5cbzEj15M4pajm7yA2BqOXr3n///ZC79dZbQ27KlCmF+JZbbgk1bfW9qE/YAQAAAECFOLADAAAAgApxYAcAAAAAFeLADgAAAAAqpMUPnbjnnnsK8UYbbdRMK/mbFStWhNzDDz8ccr/+9a/rfKwNNtgg5E444YQ6vy7XBPLll1+u8+vaugkTJoTcWWedFXJDhw6t87HKzTNTSumMM84IuT/96U+FeP78+XU+ds6IESNCbt999w25WhoXX3rppSE3derUeq2L1qc8GKK+AyZSSmncuHGfcjW0NI8//nghzjURzjX/L5s8eXKDrYnWr0+fPoX4C1/4QqhZsmRJyB1xxBGF2NAJPon+/fsX4vXWWy/UlJv812rp0qUh9/Wvfz3kHnzwwXo9Pm1T+X1Cz549Q01uGN6rr77aSCuiCv7nf/4n5C644II6v2758uUhN23atIZYUpvhE3YAAAAAUCEO7AAAAACgQhzYAQAAAECFtKgedltuuWXI1dLnprH927/9WyF+9NFHQ83vf//7ej32qFGjQq6WHnaLFy8OuYMOOqhea2jN1lxzzUJ85plnhppa+tVNmjQp5I477riQe//99z/B6j6ZLbbYIuTWWmutej3W1VdfHXLz5s2r12PRspX71aVU/551uX519957b70ei5ar3Pvm5z//eag59dRT63ycDTfcsKGWRBvwi1/8ohCPHj061Pzxj38MuWeffbbR1kTr99prrxXiiy66KNTUcr3LufLKK0Pu2muvrddjwV8deuihddaU+2+nlNKMGTMaYzlUxFZbbRVyub6vCxcuLMRz585ttDW1FT5hBwAAAAAV4sAOAAAAACrEgR0AAAAAVIgDOwAAAACokMoOndh6661D7u677w65bt26NdoaVqxYEXK77757yDVk0/RBgwYV4v/+7/8ONautVvc563333ddQS2rV2rVrV4jXWGONmr5u5syZhTg3CKS+Ayb69OkTchtttFHIjRkzphDX2rR46dKlIXf99dcX4lwzWVq/e+65J+R22mmnej1W+d8W/NXqqxdvPbbddttQk9s/5de+Z555pmEXRouU2yvHHntsyO27776FOPcafcEFFzTcwiDj9NNPD7mpU6eG3CmnnFKIt99++1Bz5JFHhtw111wTcg888MAnWSJtXG6IXdlZZ53V+AuhUoYNGxZy06ZNq/Prbr311pCbPn16yNUyVLOt8gk7AAAAAKgQB3YAAAAAUCEO7AAAAACgQhzYAQAAAECFtFu1atWqmgqbuIH4VVddFXKHHHJIo37PN998sxBvsskmoWbx4sUN9v023HDDkLvtttsK8dChQ2t6rG984xuF+Iorrgg1uSEa9VXjtvnUGnvfdejQoRDnmpjnnqfyz5/br7mG1qNHjw65jh07FuJcU8/27duHXH1/N7khKePGjavXYzW1ptp3KbWNoQmnnXZaIZ44cWJNX1feQy1l/3wareWaVwVrrbVWIS6/9v495d/N//7v/4aaL3/5y/VfWAXZd3Xr0qVLyC1atKjOr/vWt74VchdffHGDrKmls++aX9euXQvxww8/HGpGjBgRcpMmTQq5b37zm4X4gw8++JSraxzu8arhoYceKsTbbLNNqOnbt2/IzZs3r9HW1Nja0jWvPOAypfz9VFluIOjKlSsbYkkppZTuv//+QnzzzTfX9HW5oRYvvvhig6ypsdW673zCDgAAAAAqxIEdAAAAAFSIAzsAAAAAqJDK9LAr92H44x//GGrK/cY+jeuvvz7kvvOd7xTit99+u8G+35lnnhlyRx99dMj16tWrEL/77ruhJtefrtyLKtc/rSG1lr/179y5cyFesGBBqFljjTUadQ0fffRRIc71A6jvGmbOnBlym2++eci1lL4T+pvUX/kakVJtPetacs/DhtRarnlVoIdd7ey7up1zzjkh993vfjfkXn311UI8cuTIUPPee+813MJasNa671ZbLX5O4TOf+UzIzZo1qxDPnz+/0dZUq1yvxunTp4dc//79Q26XXXYpxPfcc0/DLawBucdrern98uSTTxbiXL+6fv36hdzcuXMbbmFNrLVe82o1cODAQvz//t//CzVbbbVVyG222WYNtoby76bW5yT3HvZ//ud/CvGll14aaqZNm1b74hqJHnYAAAAA0AI5sAMAAACACnFgBwAAAAAV4sAOAAAAACpk9eZewF/94Q9/KMT1HTAxZ86ckDviiCNC7oEHHgi5+jYbnjBhQiHONXLfZJNNQm711eOvv7z+gw8+ONRUtVlsS1QezrHmmmuGmvLzm1JK3bt3b7A13H777f9wTSml9Oc//znkhg0bVudj54ZoLF++vPbF0SIZMAG0Rrl7ovLAsJRS+uCDD0LuK1/5SiE2YKLtOfDAA0Pu2muvDbn77ruvEFfhdXDJkiUhl9vnOaNHjy7E3kfwV+utt17IlYdM/OY3vwk1VRjEQsOZMWNGIT7qqKNCzTrrrBNyG2ywQZ2Pfdhhh4VcLcMqckMucu/Te/fuHXL//M//XIhzg1Ny75VefPHFOtfVHHzCDgAAAAAqxIEdAAAAAFSIAzsAAAAAqBAHdgAAAABQIZUZOlFuBrhq1aqavm7SpEmF+Cc/+UmoeeGFF2p6rI4dOxbiHXbYIdTsuuuuIXfCCScU4lrXnhuQceihhxZijWGb34033tik32/vvfcOuVxDzbIVK1aE3IUXXhhyucbFtFw77bRTyNUyYCKlOGTi9NNPb4AVNY3ytTG39twQDZrfvHnzCvHkyZNDTe61tmy33XYLuTFjxoTclClTPsHqqJKuXbsW4u9973uhpl27diH3zDPPhNwjjzzScAtrICNGjAi5fv36hdzSpUsLcRV/lpZgyJAhNdVtscUWhTj3PD399NMNsaSa5YbxrbZabZ+7yA0ug5RSOvHEE0Puww8/LMRnnnlmqFm5cmWjrYlqmj17dk25sqlTp9br++21114hl9uvI0eODLnOnTsX4oMOOijUbLfddiE3fvz4QvzSSy/Vuc6m4BN2AAAAAFAhDuwAAAAAoEIc2AEAAABAhTiwAwAAAIAKqczQifoqD5nIDZjYeOONQ6579+4hVx748O1vf7tea3r77bdD7qabbgq5n/3sZyHX1E1sqZ5jjjkm5Pr06VPn1+UaY/7yl79skDVRXbmhE7UqD2qo6pCG0047LeTKP/e4ceOaZjF8auWG1u+9916oyQ0SKDdYz72O5/aBoRMt18knn1yIN99885q+Lnff95vf/KYQ//a3vw01l1122SdY3d+ss846IXfSSSeF3C677FKI119//VDTrVu3kPvggw8K8eWXXx5qvvGNb9S1zDbvlltuCbljjz025Pr371+Ic4Nxhg4dGnLvv//+p1jdP3b44YeH3IABA0Iu1wTekBJSyg9P2WOPPUJu+fLlhdjQEprDrbfeWlPuuuuuC7kvfvGLdT7+euutF3Ll99uGTgAAAAAAgQM7AAAAAKgQB3YAAAAAUCGV6WFX7lezatWqmr7uwgsvLMSLFy8ONdtvv33I9e3b9xOs7m/mzJkTcuW+KBdffHGoefLJJ+v1/Wh7Bg0aVK+ve+aZZxp2IbQIEydOrKku15+uij3rcv3qcj9jFddO/eR6vOb6j6xcubIQ5+4Tar13oGU4//zzC/Fuu+0WakaOHBlyHTt2DLn99tvvH8Yp5e/fapHrudi+fft6PVbOGmusUYi//vWvh5pLLrkk5B577LEGW0NrkLtPKr+PSCmlM844oxCXe9qllNJTTz0Vcj/84Q9DrpYemrnHP+WUUwpxuf9hSvl9d9FFF4XcokWL6lwDrV+ut2eXLl1CbtasWYU4976kQ4cOIZfrIw8N6fvf/37IHXDAAXV+XbkHckrxnjKl/DW1CnzCDgAAAAAqxIEdAAAAAFSIAzsAAAAAqBAHdgAAAABQIZUZOjFz5sxCnGuC2aNHj5DLNWGtr/nz5//DOKWUJkyYEHJPP/10g62Btufss88uxJtuumm9HufUU09tiOXQSp1++ukN9li5wRC1GDt2bMjttNNOdX5dbsDEuHHj6rUGqmf27NnNvQQq6p133inEe++9d6j5+c9/HnL77rtvvb7f6qs37m3x9OnTC/H9998fal566aWQK18nN9hgg1CTG7RB3W6//faQO+SQQwpx7r5s8ODBITdp0qSGW1gNpk6dGnK//OUvm3QNtBwnnnhiTXXle67zzjsv1NTS6J+2qXw207t375q+rvy6vfnmm4eaoUOHhlwtw8ZyAyZa0uAyn7ADAAAAgApxYAcAAAAAFeLADgAAAAAqxIEdAAAAAFRIu1U1dtdr165dY6+lYMSIESF32223hVz37t3rfKxf/epXIffqq6+G3F133VWIX3jhhTofu61qqqaMTb3vGtvw4cND7plnninEtTa9/va3v12IL7744lDz0UcffYLVVV9TNgNtKXuvqg1S6ys3HKO+Qy4akmte49liiy1CbsqUKSFXHkaVe0522GGHkHvkkUfqv7hmZt/VbbXV4v/3PGTIkJA78MADC/E+++wTakaPHl3n98s19Z8xY0bI3XDDDSE3b968fxjXqmfPniG3YMGCej1WTlvfd7169SrE11xzTajZddddQ659+/YhV9/fZblJ+oUXXhhqcq+XDbkPmpp7vIZVbv5ffp+bUv53/uGHHxbi8hCWlPLXt5asrV/zGtKDDz5YiGt5XU0p/m4a8jnJDTe76aabQu7kk08uxIsXL26wNeTU+jP6hB0AAAAAVIgDOwAAAACoEAd2AAAAAFAhle1hR7X5W//6yfVXKveBWHvttUNN7vc9ZsyYQvzAAw98ytVVn/4m0U477RRy99xzT9MvpCTXW+fee++tKVdFrnlNa7/99gu573znO4X45ptvDjUXXXRRyJX78bQk9h3Nwb6r2wUXXBBy5T6JKcV7utzvdtKkSSF33XXXFeK77777ky6xxXGP17AOP/zwQnzZZZfV9HXlvXfwwQc32JqqyjWv4YwbN64Q/+AHPwg12267bcjVt4ddrl97ua/7pZdeGmqeeOKJmh6/MelhBwAAAAAtkAM7AAAAAKgQB3YAAAAAUCEO7AAAAACgQgydoF4056yfo48+OuR+8Ytf1Pl1P/7xj0Pu+9//foOsqSXRkLg2uUEUudzEiRMLcblRbEotZyhEY3PNoznYdzQH+47m4B6vYd14442FODfM6Zlnngm5UaNGFeKlS5c27MIqyDWv8Rx66KEhd8UVV4RcLUMnzj///JB79tlnQy43yKeKDJ0AAAAAgBbIgR0AAAAAVIgDOwAAAACoEAd2AAAAAFAhhk5QL5pz1s+XvvSlkLvgggsK8fTp00NNrmHn66+/3nALayE0JKa5uObRHOw7moN9R3Nwj9ewTjrppEJ8/PHHh5rx48eHXK6Jf2vnmkdzMHQCAAAAAFogB3YAAAAAUCEO7AAAAACgQhzYAQAAAECFGDpBvWjOSXPQkJjm4ppHc7DvaA72Hc3BPR7NxTWP5mDoBAAAAAC0QA7sAAAAAKBCHNgBAAAAQIU4sAMAAACACnFgBwAAAAAV4sAOAAAAACrEgR0AAAAAVIgDOwAAAACokHarVq1a1dyLAAAAAAD+wifsAAAAAKBCHNgBAAAAQIU4sAMAAACACnFgBwAAAAAV4sAOAAAAACrEgR0AAAAAVIgDOwAAAACoEAd2AAAAAFAhDuwAAAAAoEIc2AEAAABAhTiwAwAAAIAKcWAHAAAAABXiwA4AAAAAKsSBHQAAAABUiAM7AAAAAKgQB3YAAAAAUCEO7AAAAACgQhzYAQAAAECFOLADAAAAgApxYAcAAAAAFeLADgAAAAAqxIEdAAAAAFSIAzsAAAAAqBAHdgAAAABQIQ7sAAAAAKBCHNgBAAAAQIU4sAMAAACACnFgBwAAAAAV4sAOAAAAACrEgR0AAAAAVIgDOwAAAACoEAd2AAAAAFAhDuwAAAAAoEIc2AEAAABAhTiwAwAAAIAKWb3Wwnbt2jXmOmhhVq1a1STfx77j/2qqfZeSvUeRax7Nwb6jOdh3NAf3eDQX1zyaQ637zifsAAAAAKBCHNgBAAAAQIU4sAMAAACACnFgBwAAAAAV4sAOAAAAACrEgR0AAAAAVIgDOwAAAACoEAd2AAAAAFAhqzf3AgAAoDG1a9euXl+3atWqBl4JAEBtfMIOAAAAACrEgR0AAAAAVIgDOwAAAACoEAd2AAAAAFAhhk4AAJXSvn37kCs3/1+5cmVTLYcmkHvOBw0aVIiPPvroUPP5z38+5Hr37h1y/fv3L8QffPBBqJk3b17IPfPMM4X4wgsvDDX33ntvyC1dujTkaD1WXz2+hVpzzTVDrkOHDoU4ty9ye7F8fTP8BKBt8gk7AAAAAKgQB3YAAAAAUCEO7AAAAACgQhzYAQAAAECFtFtVYxfTdu3aNfZaml35Z8z9zKutFs84y7ncr/Sjjz4KuZbcMLupmt+2hX1H7Zqy6XJr23u5BtnlxuxDhgwJNVtttVXI9evXrxD36NEj1MyYMSPk/vznP4fcY489VoiXLFkSaqrANa/hlPfixIkTQ83Xvva1kHvnnXcK8X777RdqZs6c+ekWVzGtdd917Ngx5MaNGxdyxxxzTCEePXp0qCk39U8ppeXLl9e5htzXderUKeTKz8H06dNDTW4vvvbaa3Wuoapa676rVXl/brHFFqHm4IMPDrmddtop5MrDTnJWrFgRcm+88UYhvuSSS0LNDTfcEHLvvfdend+vqtzj0Vza+jWP5lHrvvMJOwAAAACoEAd2AAAAAFAhDuwAAAAAoEIc2AEAAABAhcQu5G1Y+/btC/Gaa64ZanKNkrt06VKIc8Mk5s+fH3LLli0LuZY8iIKWIdfwtLz3c3KDU5qyQTB5uUE43bp1C7kNN9ww5MaMGVOIDz/88FAzdOjQkOvcuXMhzl23Fi9eHHK5oRM//elPC/Fdd90VanLXSlquNdZYoxDnGrWXB5uklFLPnj0L8cYbbxxqWtvQidai/LqTG4LTp0+fkCvfc+WG0kyZMiXk7rnnnpCbNm1aIe7atWuoyV0DDzzwwEI8aNCgUJMbStCSh060Jbl7ovJAptyAifHjx4fcWmutFXLl18vy9S+l/Ov4uuuuW4g333zzULPvvvuGXHlQS0pxYA9tU26f5fZj+bqbe4+QG27y4Ycfhpz3CU2rvgM0ywOXytfAlPID5nLnIgsXLizEufePudff8nlKbnjUBx98EHK5n3HOnDmFOHfvkHtvUR4AVJVzGZ+wAwAAAIAKcWAHAAAAABXiwA4AAAAAKqTN9rDL9U9Ze+21C/Hw4cNDzZZbbhlyI0aMKMTlPikppXT//feH3FtvvRVy5Z4AS5cuDTV6ibU9uX6K/fv3L8T7779/qDnqqKNCrrzPU4p9Aq6//vpQc84554RceQ/bh42v3C9i9OjRoeYLX/hCyOX6hJV75OR6UeR6Xbz//vuFuNzzIaV8T4lcn6eTTjqpEL/yyiuh5vnnnw+5qvSV4JMrX4NyfRJzfXXK15dcn0Rahtw1I9e/svxvP/cak7s+5O6dyteM3LUt1wNx1113LcTlnmQp5fvv5a6BXiNbhnIvrgceeCDU5O7Lcv0Ny/sutzc32mijkBs4cGCd32/HHXcMufJrakopff/73y/EuT5QVFPuOpJ7fezbt2/Ild+f7rHHHqFm++23D7nya3Lu3nDGjBkh95WvfCXkyr2LXQMbTm5vlHO17pWRI0cW4t122y3UbLXVViGXuy7NnTu3EJd72qUUexKnFPvmdejQIdTkfp7c9eyZZ54pxDfeeGOoeeyxx0Ku/L62/H4npeZ5/+ETdgAAAABQIQ7sAAAAAKBCHNgBAAAAQIU4sAMAAACACmkTQydyDQpzDV4PPvjgQpxr5r7OOuuEXLk5bW6gxfrrrx9yr7/+esi98cYbhfiJJ54INXPmzAm5ZcuWFeLcYApN2qup3FRzhx12CDW54RHlRrHlZp0p5fdi+/btQ668N3bZZZdQ88tf/jLkcoNTqJ9c89iuXbuG3NFHH12IjznmmFCTa4CeU76WPPzww6Em1wi+vK/KwytSSmnPPfcMudx1t9zcODfsJ9dUnparvH9yTfxzAwHKzapzr4VUU/m5yzWJzj2f8+bNK8S5e5tcrha5e6LZs2eH3DvvvFOIc4MFNthgg3qtgeaXa4Jf3ne518FHHnmkpscqNy3P7dfca3b5Pcnxxx8fanL3CHvttVfITZo0qRA/++yzoYZq6NSpUyHeeeedQ83ee+8dctttt13IrbXWWoW4S5cuoSb3nqA8SCD3XiJ3r/bFL34x5B5//PFCbOhE4yq/l8gNd8gNHxw/fnwhzg2qGzBgQJ3fL6X4eljL/VxK8f1w7vwm9/1yr+XlvZ/7PeTWVR4wlBuQVT73SSn/8zTkXvcJOwAAAACoEAd2AAAAAFAhDuwAAAAAoEIc2AEAAABAhbS6oRO55pmbbLJJyP3Hf/xHyG277baFONfssNw8NqWUFi9eXIhzgym6d+8ecltssUXILV++vBA/9NBDoea+++4LuZkzZxbi+fPn17nOlOrfrJm65Zq0brzxxiF34YUXFuLcvig3gE0p7pXywJKUUlq6dGnIDRw4MOTKTd9zjWlzPw8NJ/ccjxs3LuQOPfTQQpxrpJr7t55rmv3zn/+8EL/44ouhpjzQJqV4nc01zC43Tk4ppU033TTkysoN3lPSpLi1KQ/IKTcarlWu+TAtQ+7fdEMOlKiv3HWr3EA7t1+ffvrpkHPdarnKTcUXLFgQahYuXFjTY9WyD3Kv2VdffXUh3nHHHUPNNttsE3LlZusppTRy5MhCbOhENeTu+8aMGVOITznllFDzmc98JuRyDfTL7wVzg8VyufL75v333z/U5IZF5f6duA42rfI+yP3+u3XrFnLl4XG1DmnIDZAqvz/N7fPc/im/t8h9v9zAh9zAqpdffrkQ33HHHaFm6tSpIffuu+8W4qoM8fQJOwAAAACoEAd2AAAAAFAhDuwAAAAAoEJafFOqcg+bfv36hZrjjjsu5Mr96lKKfeZyf5ed+9vp8t8y5/7mOtfDrm/fviFX/jvvjh07hppcj7NyL43f//73oeYPf/hDyJX/Vjsl/QbqI9cP4MQTTwy5448/PuTKPXNyPcPeeuutkCv3tcj9LX65905KKZ1zzjkht/nmmxfiXA+73H6l/srXiVzfmVyfkvL+eO2110LNL37xi5D77W9/G3Lz5s0rxLl/+7X0msr1EsvtvVxf0HL/zVxvHdek1qW8X2p9fsuvybm+KFCrXM/j008/PeS6du1aiHM9gm+77baGWxiVU+trYy1q7b1Z3mevvPJKqCn3pksp32Nxo402KsS59ynN0Zeprcv1zCy/x8vdj5fvm1JK6U9/+lPInXXWWYX49ddfDzW55738njV3P/e5z30u5HLvQ9y/NZ7c77aWf8e5M4ny61zu9THXt7P8PiL3tbmzmdw6y33X33777VCTO9+44IILQq58vrFixYpQkzvnqep+9Qk7AAAAAKgQB3YAAAAAUCEO7AAAAACgQhzYAQAAAECFtPihE+XmqkOHDg01I0aMCLlcw9VyQ8Lly5fX9HU9evQoxLkGobkmsLmBEuUGiLk1rLPOOiFXbmKbG0xRbuaYUkq33npryJUbyrd1uQbBAwYMKMRXXHFFqNluu+1CbvXV4z+5xYsX1/lYZ5xxRsiVG33mGoSOGzcu5MrNh3Nfm9srBpQ0rPLvLtcQdcqUKSFXbhb76quvhpqbb7455BYtWhRy9f23Xt4vueEYu+yyS8jl9kt5re+991691kQ15a6f5X23ZMmSUJMbKFEeWpJrhJ0bWgI5uXvDHXbYIeTK1+aJEyeGmtwehpzcNTF3/1a+vm211VahJvc+Ive+4fHHHy/EBkxUw/vvvx9yDz74YCHOPccvvfRSyN11110hN2fOnEKce95z+7E8gOCzn/1sqMm9Rs+aNSvkaFrl5zh3n597znv37l3n1+UGTOTeG5blHiu3r8sDJSZNmhRqnnvuuZDLvX9qbXzCDgAAAAAqxIEdAAAAAFSIAzsAAAAAqBAHdgAAAABQIS1q6ESuKWvPnj0L8Y477hhqyo2qU8o3CC7nys3dU0qpW7duIVdunJgbTPHhhx+GXK4x7MKFCwtxrpFibnBBuVlk+feSUkpf+MIXQi7XpDTXBLWtyDXiHDZsWMj97ne/K8Trr79+qMnt19dffz3kjjzyyEL8wAMPhJrc/inLPednnnlmyOX2cLlJaa6h7YwZM+pcA7UrD2CYO3duqMkNiig/D8uWLQs15UEmKeWbvpavVbU2JC7v9x/96EehZu211w658vUtpTh0QjPs1iX3erjuuusW4tzrcfk1LaX42jd+/PhQc+edd4ac4TikFF8jf/jDH4aafv36hdzzzz9fiH/1q1816LpoPXLXu06dOhXiXr16hZott9wy5MrDxnJD9XKvzy+//HLIPfTQQ3GxNLvcvf2LL75YiBcsWBBqcs3/58+fH3K13E/l9uw+++xTiMvDFVPKv4d9++236/x+NK7y/U5uj+UGPpTlhork9kFuUFx5L+auP/fee2/IlQdhtuXziDKfsAMAAACACnFgBwAAAAAV4sAOAAAAACrEgR0AAAAAVEhlh07kmmDmmlAfcMABhXi33XYLNbnGiblmmV26dCnEHTp0CDW5ARblteYaaOeahj733HMh98YbbxTiXMPFkSNHhly5iW3u95drFtnWlRv2DhkyJNRcc801ITdw4MBCnBsO8oc//CHkjjjiiJB755136lxnTnkvnnzyyaFmrbXWCrlck+IPPvigEF9yySWhZunSpZ90iXwCucawudzs2bMLce75zMnVlXO5ms6dO4fcWWedVYhzzbBza7/yyitD7sknnyzEBgS0fuXXw9zglFr2K/w9uaFP5fvFTTfdNNTMnDkz5I4++uhCnLt/pO3JXY9y71P222+/Qrz//vuHmlGjRtX5WLnXxty1c/LkySGXG2pF88s9p+XnKvf+Mbf36nvvlHtfm9uPZa+88krIeZ9QPbmBc7n9Ux5ImDsDyQ29zA1AufvuuwvxDTfcEGrKw1VSiu9F+RufsAMAAACACnFgBwAAAAAV4sAOAAAAACqksj3s+vXrF3IHH3xwyB177LGFuGPHjqEml8v9/Xb577Vzve9yPQLeeuutQnzbbbeFmlw/s1dffTXkyr3Qtttuu1AzevToOteV66OX63XR1nXv3r0Qn3322aFm4403DrmVK1cW4oceeijUHHLIISG3cOHCT7rElFK+x0R5bxx11FGhJtfLMKfci2LKlCmhJtcHgaZX3nu1yu2F8nWwU6dOoeaLX/xiyJX7m+T6Tjz++OMh96Mf/Sjkcv0fad3Kr0+51+ic8t5fvHhxg62J1mXYsGEhV+7z2rNnz1Dz61//OuSeeuqpBlsXrUfufUSub3C5t/bWW28dasr3oinFPrC5vrC5/lFTp04NufreN9D0yvfauXvvWu7ncnI1ufcXG264YZ3f709/+lPI2WfVk7tu5HpTl89Aaj07GTBgQMiV+1rn3lvoV/3J+IQdAAAAAFSIAzsAAAAAqBAHdgAAAABQIQ7sAAAAAKBCKjN0otz0cptttgk1xx9/fMitt956dT52rglmrglj2fLly0PuzTffDLnTTjutED/44IOhZtGiRSHXvn37kFt//fUL8eDBg0NNrlFj+fFnzpwZau67776Qa0uDBFZfPW73sWPHFuIddtgh1OSGj5R/3xdffHGoyTXTzz3n5dw666wTar7zne+E3L777luIu3btGmpycv8err/++kKca2RMy5a7bpT3du66+8///M91PtYDDzwQasoDgVJK6d13361znbQuuX03d+7cQpy7NueUGx6XXy9pm7p06RJyuQFSG2ywQSFeunRpqPntb38bcuU9nGu8rYF225N7znOvceUhEH379g01ufcy5abvuXvR3D18buBKeWiA4QAtW0M+f7169Qq54cOHF+LcPvvFL37RqOuiYeTOO5588smQe+mllwpx7v4qdw3KDdo58MADC/GOO+4Yaq666qqQu+SSSwrx7NmzQ01uyF1b4BN2AAAAAFAhDuwAAAAAoEIc2AEAAABAhTiwAwAAAIAKqczQic6dOxfiQw45JNSsvfbaIVduVp1rrrhgwYKQW7hwYcgtW7asEOcaqV9wwQUh9/rrrxfiXHPODh06hFyuMexBBx1UiD/3uc+FmlyDx6eeeqoQl4cIpJTS448/HnK1DN9ozcr7IDcUIqe8V3INNctNflPKP3d77rlnId5yyy1DTW6gRPnxc42wc95///2Qu/POOwuxxrGtT24/TpgwoRBPnDgx1JSvzSmldMYZZxTiO+64I9TMmjUr5DRmb3tyz3n37t0LcadOnWp6rPLrVe5aRuuWu45ttdVWIZd7TS6/Rj7xxBOhpnw/l1K8pzN0gpTyz3luYNd1111XiP/85z+HmkGDBoVcz549C3H5/UFK+XvK/fffP+SuvPLKQvzWW2+FGlq/3LXrG9/4RsiV7/ty+/qFF15ouIXRaHJnEs8//3zInX/++YU4d+ayySabhFx5aGhK8cxj4MCBoebkk08OucMOO6wQ5/ZdbjBU+fqWUnwtzw2raEmv2z5hBwAAAAAV4sAOAAAAACrEgR0AAAAAVEhletiVezXkereV+9WlFHva5PoylPtzpZTStGnTQq78987PPvtsqHnzzTdDrmz99dcPuW9/+9sht/POO4dcnz59CnGux1zub89/9atfFeJcb5bc7yb3t+2tVa4vW/k5zvXiGjNmTMgtXry4EI8ePTrUHHDAASGX6wdW3tfLly8PNbmei+XeJbneFLn9c8kll4Rceb+0pL/rJ8rthb322ivkfvaznxXi3DX2xz/+cchddtllhTi3z6rQBzH3e8jlqrDW1ip3LSn3nqt1/5Rfr/r37x9qcns417uElqHcs653796h5jvf+U7I5Z7zcq/f7373u6Em18OuvBdrva7U0uvOa23TyvUpzj0H9X2ecvfUs2fPLsRz5swJNY888kjIle8X+/btG2qOOuqokMu9Bym/p8r1gaL1y70+jhs3LuTKfclefvnlULN06dKGWxiNJnftyj13U6ZMKcRHHHFEqNl7771DbuzYsSFX7iub68OeM2DAgEK8wQYbhJoRI0aE3NFHHx1yM2bMKMRnn312qMm951+yZEkhrsprtE/YAQAAAECFOLADAAAAgApxYAcAAAAAFeLADgAAAAAqpFmGTuQa8ZYbGZaHL/w95eb/d999d6gpN0hPKaW33367zsfONRocNmxYyH3pS18qxIcddlioyTXHzj3+okWLCnHu5/nJT34SctOnTy/EucEFbWnARE6uifncuXML8QknnBBqBg4cGHI77bRTIV5nnXVCzWuvvRZyXbp0CblyI+xXXnkl1Hz5y18OufLQidzz+9xzz4XcT3/605BbtmxZIa5Kk03qlrue7rbbbiF3zTXXhFx5Pz788MOh5vzzzw+5ckP3xt4v5cbzKcXm4bU0eE/JgImmlnteyteb3DCn8iCqnPXWWy/kOnbsGHKGTrRc5WvUIYccEmo22WSTkMsN2TrrrLMKcW44Vy3Xh9x1pdbrT1muCXzueleWe73Prb2tv5aXm+d379491HTr1i3kyk3Z582bF2pyw3Jqec1ZsWJFTV9Xvm7l7g1zcsPNyveLuT3mtbH169ChQ8jlGvuX90Luvaj90nLlnrvyMLDye9OUUnrhhRdCbtKkSSG33XbbFeLtt98+1AwdOjTkBg0aVIgHDx4casrX9JRS6tWrV525Cy+8MNTk3g+Xz4zefffdUNMcr6s+YQcAAAAAFeLADgAAAAAqxIEdAAAAAFSIAzsAAAAAqJBmGTqRa3p50EEHFeJc4+iccmP/O++8M9QsXLiwpjWUmx3utddeoSbXzH3AgAF1PnauQWFuXddff30h/v73vx9qyoM2UtL8s77Kv7fZs2eHmtyAkmnTphXicgP8lPLPeS2DP3IDSr73ve+FXLlp8IIFC0LNySefHHK5n7GtN6ZuScrP+7777htqLr/88pDr2rVryJWbqR555JGhJne9acz9kmuGnVt7uVF43759Q02uUXju33NbH8jT1MrPcXnYUkr552TNNdcsxOuuu26oWXvttUPuvffe+6RLpBnkBjeUX1vHjRsXanr37h1yuaETPXr0+IePnVJtA0py66xV+XvmmmWvv/76IVe+Ds+fPz/U5O4B6jtEo7UoD2AYP358qBk5cmTIlX/fudfU3GtJbhBFWa2/7/I+Kw+OSCn/epnbw0uWLPmHj03b0K9fv5Dr1KlTyJWvG7nrKa1L+bqUuwcrD+NJKT/k8tZbby3Ed911V6jJDccpr2H48OGhJveeZ5999gm58v1h7vsdeOCBIVcetnHPPfeEmvLgtKbgE3YAAAAAUCEO7AAAAACgQhzYAQAAAECFOLADAAAAgApplqETa6yxRsiVG4jXOkSh3ERwxx13DDXbbrttyG244YYht+mmmxbiXPP/ctPrnBUrVoTc448/HnJf//rXQ+75558vxLU0sKVx5fZiQzacLDcN3mmnnUJNrgl1udHnlClTQs1DDz0UcvZUy5FrDF0ejnP66aeHmlwT4blz54bccccdV4hfeumlUNOQDclzP095/+eGBuy3334hV24UnmsAfuONN4Zc7vdQbtLdmpuwN7Vahu/krkm5ryvvlS5duoSaYcOGhdzLL79c0+PTvHLPSfn1N/fam7unHDJkSMh961vfKsS5wV+5BtPvv/9+Ic41+l999Xg7nVtX+fq2++67h5o999wz5MrX9DvuuCPUXHXVVSGXaxJeHk6Rq2ktys/LrrvuGmrGjBkTcuVrVO53dPXVV4dcbhhI+bFquballNLAgQMLcW5f5OSG+EyfPr0QG1TXNpTvucoDHlPKD98pDyTLXXdze9YAr9atlnv4lOL1JTcIp7zHcl+XGxz3+uuvh1xuON5Xv/rVQpwbTLfeeuvV+XVPPPFEqMkNYWnsa6pP2AEAAABAhTiwAwAAAIAKcWAHAAAAABXSLD3scv0bnn766UJc7tOUUr4vU/nvjw8//PBQk+stksuV/w4797f4ud4Qzz77bCG+8MILQ81NN90Ucq25bwi1K+/rE044IdTkeieW/4Z+0qRJoSa3X2k5yj06U0ppl112KcS5/hHvvPNOyN1///0h99hjjxXiXC+TWvrt1NKXNKWUevToEXKf/exnC/Hee+8dajbeeOOQK/eLyPWUyPW/yPXS0M+sab333nuF+NVXXw01m222Wch17969EOd62O2zzz4hN3ny5JDTa6dlKPdqLccp5fdB7lo2dOjQQvyjH/0o1JT71eUeq2PHjqEm17t4yZIlIVe+ppf3dEop9ezZs851DR8+PNSU+zCnlNKDDz4YcuXvWf732JqU77NzP2uut1H5OT7++ONDzeabbx5yudfZcn/V3Otlrq/2hAkTCnHu+c29l3nhhRdC7pVXXinEXvPahvI+Hj16dKjJ9ZAt3zvl/t3k+pnReuTeW+TOYXKvv+XXudx1Ktfvs/z6nnsdz/W57t27d51ryMnt4fJrRq7vdXNcP33CDgAAAAAqxIEdAAAAAFSIAzsAAAAAqBAHdgAAAABQIc0ydCLX9Pt3v/tdId56661DzQYbbBBy5Wb8uQaFuaaCuYaB5aa+Dz30UKj5yU9+EnJTp04txAsXLgw15Qbp8Fc77rhjIR4yZEioye2f5557rhDnmktrrN5y5JqyjhgxIuTKTYNzTdgXLFgQcrmBD1/+8pcLcbk5dkr5JrNbbLFFIV5rrbVCTa4xbK6uvEdza881b7/vvvsK8S233BJq3nzzzZDLNVimaS1btqwQz5o1K9TU8rqdq8k1Gs7dF7g2tgzl+8Ubbrgh1JRfQ1PKD24oX2Nzg3Fy163ykIBcM+7cfW3udbt8vc7tw5kzZ4bcBRdcUIgfffTRUPPkk0+GXO7a2ZYGDpTv63ND4XKN+EeOHFmI+/fvH2oOOuigkPviF78YcuXrVO45z+2p3LCxslxD9NzPaABZ65d7PRw8eHAhzt1T5u6Jyvdhb7zxRqjxvrZ1yw3HyQ2A22qrrUJuyy23LMS5a1l5EE5KKXXt2rUQ9+rVK9RssskmIZfb1+X3LrlBn3PmzAm5q666qhDnrteGTgAAAABAG+fADgAAAAAqxIEdAAAAAFSIAzsAAAAAqJBmGTqRa3B5zz33FOJcQ79jjz025DbccMNCnGsuPW/evJB7/PHHQ+7KK68sxA888ECoKTewTUnjTWqXa7x5wgknFOJco8/cYIFy0/333nvvU66O5pR73j/72c+GXLnh6qBBg0JNroF17969Q67cLDa3P3PX1Fqa/+eaXOf2aHlYxLRp00LNn/70p5ArN0XODfupSrNYisr3AI899lioqWUoRK7R/+uvvx5yXqNbrvJzd8cdd4Sa3NCJ4cOHh9z2229fiMeMGRNqcsPNOnToUIhzg3hy95m5IRCvvfZaIc4NN8sNkCpfO3P/Puzzur388sshN2HChJD74Q9/WIhzAyZy+6CWQRE5udel8vP57rvvhprzzz8/5G6++eaQM2Sn9csNLttnn30KcW7wV075evbWW2+FGvdSrUv5Pj53LRswYEDI7bfffiH3uc99rhDn3t/k9mv5/UbuvUzuPUnutW/FihWFuDzsLKWULr/88pB76qmn6nzs5uATdgAAAABQIQ7sAAAAAKBCHNgBAAAAQIW0W1XjH6HnehTV+5tmHquWv53u1atXyHXp0qUQL126NNTk+j7k+ujp8VC7pupd0JD7rgpGjBgRcvfff38h7tatW6iZO3duyO22226F+Iknngg1ra3HRFP+PE2993J9GXL7ZeLEiYW43CsipfweKvdzSCn2ZsitIde3c/bs2YX4zjvvDDW5vnPTp08PuXLPsdy1OZcra+y94ZrXeHJ9dS666KKQGzlyZCHO7aejjjoq5N58882QaynXRvuu8dRyL5pSvo9OWa19bqrSD6cubX3flXsu5V5nv/a1r4XcRhttFHLl61u5J2JKtfVAPOuss0LNSy+9FHK1vF5WVWu+x2tsffr0Cblyz88tt9wy1OR6e1111VWF+OSTTw415T7CKbWc19Wctn7NK8udwwwbNizkDj300JA75JBDCnHuHi/3ulr+3eR+V7nrW+7s55FHHinE1157bai56667Qu6dd94pxI39ml3rvvMJOwAAAACoEAd2AAAAAFAhDuwAAAAAoEIc2AEAAABAhazeHN8012CvnMs1wSw3OocqyzXU3Gmnner8ulzzzMcffzzkys36W3KzV/JDb5566qmQKzfVHzx4cKjJNR/ODd9Zvnx5IV60aFGoWbhwYcgtWbKkEOfWbj9Sq3KT35RS+tKXvhRytTRrtu+oVS33oim1nEERNJwPPvigED/00EOhJpeD5tKvX7+QGzRoUJ1fV97rKaX02GOPFeLyPV9KXmtbu9xwh1dffTXkLr/88pCbMWNGIS4PDEspP4iic+fOhbj8HiX32CmldPPNN9dZlxvemHt/U9XXe5+wAwAAAIAKcWAHAAAAABXiwA4AAAAAKsSBHQAAAABUSLMMnYC2oH379iG3YsWKkHv//ffrfKxf//rXIbd48eL6LYwWI9f8tNw4NddIFVojTa4BIFqwYEHITZkypRBvv/32oWby5Mkhd/fddxfi3GAKWrfc+4/c+9UXX3yxzlwtA8NydZ/mnq+13S/6hB0AAAAAVIgDOwAAAACoEAd2AAAAAFAhDuwAAAAAoELaraqxK1+tDQNpG5qqmWNr23errRbPyLt161aIly9fHmpyudbWULMWTfkzt7a9x6fjmkdzsO9oDvYdzcE9Hs3FNY/mUOu+8wk7AAAAAKgQB3YAAAAAUCEO7AAAAACgQlZv7gVAW7Jy5cqQW7hwYTOsBAAAAKgqn7ADAAAAgApxYAcAAAAAFeLADgAAAAAqxIEdAAAAAFRIu1WrVq1q7kUAAAAAAH/hE3YAAAAAUCEO7AAAAACgQhzYAQAAAECFOLADAAAAgApxYAcAAAAAFeLADgAAAAAqxIEdAAAAAFSIAzsAAAAAqBAHdgAAAABQIf8fTIgTh29Bw0EAAAAASUVORK5CYII=",
      "text/plain": [
       "<Figure size 1600x400 with 16 Axes>"
      ]
     },
     "metadata": {},
     "output_type": "display_data"
    },
    {
     "data": {
      "image/png": "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",
      "text/plain": [
       "<Figure size 1600x200 with 16 Axes>"
      ]
     },
     "metadata": {},
     "output_type": "display_data"
    }
   ],
   "source": [
    "# main\n",
    "\n",
    "# params\n",
    "input_dim = 784  # MNIST 图像大小 28x28=784\n",
    "hidden_dim = 400\n",
    "latent_dim = 20\n",
    "batch_size = 128\n",
    "epochs = 20\n",
    "learning_rate = 0.001\n",
    "device = torch.device(\"cuda\" if torch.cuda.is_available() else \"cpu\")\n",
    "\n",
    "# data operation\n",
    "transform = transforms.Compose([\n",
    "    transforms.ToTensor(),\n",
    "])\n",
    "train_dataset = datasets.MNIST(\n",
    "    root='./data', \n",
    "    train=True, \n",
    "    download=True, \n",
    "    transform=transform\n",
    ")\n",
    "train_loader = DataLoader(\n",
    "    train_dataset, \n",
    "    batch_size=batch_size, \n",
    "    shuffle=True\n",
    ")\n",
    "\n",
    "# init and optim\n",
    "model = VAE(input_dim, hidden_dim, latent_dim).to(device)\n",
    "optimizer = optim.Adam(model.parameters(), lr=learning_rate)\n",
    "loss_fn = ModernVAELoss(recon_type='bernoulli', beta=1.0)\n",
    "\n",
    "# train\n",
    "train_losses = []\n",
    "for epoch in range(1, epochs + 1):\n",
    "    model.train()\n",
    "    train_loss = 0\n",
    "    \n",
    "    for batch_idx, (data, _) in enumerate(tqdm(train_loader)):\n",
    "        data = data.to(device)\n",
    "        optimizer.zero_grad()\n",
    "        \n",
    "        recon_batch, mu, logvar = model(data)\n",
    "        loss = loss_fn(recon_batch, data.view(-1, 784), mu, logvar)\n",
    "        \n",
    "        loss.backward()\n",
    "        train_loss += loss.item()\n",
    "        optimizer.step()\n",
    "    \n",
    "    avg_loss = train_loss / len(train_loader.dataset)\n",
    "    train_losses.append(avg_loss)\n",
    "    print(f'Epoch {epoch}: Average loss: {avg_loss:.4f}')\n",
    "\n",
    "# showshow\n",
    "def plot_results(epoch):\n",
    "    \"\"\"显示原始图像和重构图像\"\"\"\n",
    "    model.eval()\n",
    "    with torch.no_grad():\n",
    "        \n",
    "        test_loader = DataLoader(\n",
    "            datasets.MNIST('./data', train=False, transform=transform),\n",
    "            batch_size=16, shuffle=True\n",
    "        )\n",
    "        data, _ = next(iter(test_loader))\n",
    "        data = data.to(device)\n",
    "        \n",
    "        recon, _, _ = model(data)\n",
    "        \n",
    "        fig, axes = plt.subplots(2, 8, figsize=(16, 4))\n",
    "        for i in range(8):\n",
    "            axes[0, i].imshow(data[i].cpu().numpy().squeeze(), cmap='gray')\n",
    "            axes[0, i].axis('off')\n",
    "            axes[1, i].imshow(recon[i].cpu().view(28, 28).numpy(), cmap='gray')\n",
    "            axes[1, i].axis('off')\n",
    "        plt.suptitle(f'Epoch {epoch}')\n",
    "        plt.show()\n",
    "\n",
    "def generate_samples(num_samples=16):\n",
    "    model.eval()\n",
    "    with torch.no_grad():\n",
    "        z = torch.randn(num_samples, latent_dim).to(device)\n",
    "        samples = model.decode(z).cpu()\n",
    "        \n",
    "        fig, axes = plt.subplots(1, num_samples, figsize=(16, 2))\n",
    "        for i, ax in enumerate(axes):\n",
    "            ax.imshow(samples[i].view(28, 28).numpy(), cmap='gray')\n",
    "            ax.axis('off')\n",
    "        plt.show()\n",
    "\n",
    "\n",
    "plot_results(epochs)\n",
    "generate_samples()"
   ]
  }
 ],
 "metadata": {
  "kernelspec": {
   "display_name": "py39",
   "language": "python",
   "name": "python3"
  },
  "language_info": {
   "codemirror_mode": {
    "name": "ipython",
    "version": 3
   },
   "file_extension": ".py",
   "mimetype": "text/x-python",
   "name": "python",
   "nbconvert_exporter": "python",
   "pygments_lexer": "ipython3",
   "version": "3.9.19"
  }
 },
 "nbformat": 4,
 "nbformat_minor": 2
}
