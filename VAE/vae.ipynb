{
 "cells": [
  {
   "cell_type": "code",
   "execution_count": 1,
   "metadata": {},
   "outputs": [],
   "source": [
    "import torch\n",
    "import torch.nn as nn\n",
    "import torch.optim as optim\n",
    "import torch.nn.functional as F\n",
    "from torch.utils.data import DataLoader\n",
    "from torchvision import datasets, transforms\n",
    "\n",
    "import numpy as np\n",
    "import matplotlib.pyplot as plt\n",
    "from tqdm import tqdm "
   ]
  },
  {
   "cell_type": "code",
   "execution_count": 5,
   "metadata": {},
   "outputs": [],
   "source": [
    "class VAE(nn.Module):\n",
    "    def __init__(self, input_dim, hidden_dim, latent_dim):\n",
    "        super(VAE, self).__init__()\n",
    "        \n",
    "        # encoder\n",
    "        self.encoder = nn.Sequential(\n",
    "            nn.Linear(input_dim, hidden_dim),\n",
    "            nn.ReLU(),\n",
    "            nn.Linear(hidden_dim, hidden_dim),\n",
    "            nn.ReLU()         \n",
    "        )\n",
    "        \n",
    "        # mu cov in latent space\n",
    "        self.fc_mu = nn.Linear(hidden_dim, latent_dim)\n",
    "        self.fc_logvar = nn.Linear(hidden_dim, latent_dim)\n",
    "        \n",
    "        # decoder bernoulli\n",
    "        self.decoder = nn.Sequential(\n",
    "            nn.Linear(latent_dim, hidden_dim),\n",
    "            nn.ReLU(),\n",
    "            nn.Linear(hidden_dim, hidden_dim),\n",
    "            nn.ReLU(),\n",
    "            nn.Linear(hidden_dim, input_dim),\n",
    "            nn.Sigmoid()  \n",
    "        )\n",
    "        \n",
    "        # decoder gaussian\n",
    "        # self.decoder_mean = nn.Sequential(\n",
    "        #     nn.Linear(latent_dim, hidden_dim),\n",
    "        #     nn.ReLU(),\n",
    "        #     nn.Linear(hidden_dim, hidden_dim),\n",
    "        #     nn.ReLU(),\n",
    "        #     nn.Linear(hidden_dim, input_dim),\n",
    "        #     nn.Tanh()\n",
    "        # )\n",
    "\n",
    "        # self.decoder_logvar = nn.Sequential(\n",
    "        #     nn.Linear(latent_dim, hidden_dim),\n",
    "        #     nn.ReLU(),\n",
    "        #     nn.Linear(hidden_dim, input_dim)\n",
    "        # )\n",
    "\n",
    "        # def decode(self, z):\n",
    "        #     return self.decoder_mean(z), self.decoder_logvar(z)\n",
    "        \n",
    "    # encode as a function\n",
    "    def encode(self, x):\n",
    "        h = self.encoder(x)\n",
    "        mu = self.fc_mu(h)\n",
    "        logvar = self.fc_logvar(h)\n",
    "        return mu, logvar\n",
    "    \n",
    "    # decode as a function\n",
    "    def decode(self, z):\n",
    "        return self.decoder(z)\n",
    "    \n",
    "    # reparameterize (for compute Gd of the encoder)\n",
    "    def reparameterize(self, mu, logvar):\n",
    "        std = torch.exp(0.5 * logvar)\n",
    "        eps = torch.randn_like(std)\n",
    "        return mu + eps * std\n",
    "    \n",
    "    def forward(self, x):\n",
    "        mu, logvar = self.encode(x.view(-1, input_dim))\n",
    "        z = self.reparameterize(mu, logvar)\n",
    "        return self.decode(z), mu, logvar\n",
    "\n",
    "# a flexible loss (but not that general) \n",
    "class ModernVAELoss(nn.Module):\n",
    "    def __init__(self, \n",
    "                 recon_type='bernoulli', \n",
    "                 beta=1.0, \n",
    "                 sigma=1.0,\n",
    "                 free_bits=0.0,\n",
    "                 learn_variance=False,\n",
    "                 reduction='mean'):\n",
    "        super().__init__()\n",
    "        self.recon_type = recon_type\n",
    "        self.beta = beta\n",
    "        self.sigma = sigma\n",
    "        self.free_bits = free_bits\n",
    "        self.learn_variance = learn_variance\n",
    "        self.reduction = reduction\n",
    "    \n",
    "    def reconstruction_loss(self, recon_params, x):\n",
    "        if self.learn_variance:\n",
    "            if self.recon_type == 'gaussian':\n",
    "                mean, logvar = recon_params\n",
    "                return 0.5 * torch.sum(\n",
    "                    logvar + (x - mean).pow(2) / logvar.exp() + \n",
    "                    torch.log(2 * torch.pi),\n",
    "                dim=-1\n",
    "            )\n",
    "            elif self.recon_type == 'bernoulli':\n",
    "                logits = recon_params[0]\n",
    "                return F.binary_cross_entropy_with_logits(\n",
    "                    logits, x, reduction='none'\n",
    "                ).sum(dim=-1)\n",
    "        else:\n",
    "            if self.recon_type == 'bernoulli':\n",
    "                return F.binary_cross_entropy(\n",
    "                    recon_params, x, reduction='none'\n",
    "                ).sum(dim=-1)\n",
    "            elif self.recon_type == 'gaussian':\n",
    "                return 0.5 * (x - recon_params).pow(2).sum(dim=-1) / (self.sigma**2)\n",
    "    \n",
    "    def kld_loss(self, mu, logvar):\n",
    "        kl = -0.5 * (1 + logvar - mu.pow(2) - logvar.exp())\n",
    "        kl = torch.sum(kl, dim=-1)\n",
    "        \n",
    "        if self.free_bits > 0:\n",
    "            kl = torch.max(kl, kl.new_full(kl.size(), self.free_bits))\n",
    "        \n",
    "        return kl\n",
    "    \n",
    "    def forward(self, recon_params, x, mu, logvar, beta=None):\n",
    "        beta = self.beta if beta is None else beta\n",
    "        \n",
    "        # 展平输入\n",
    "        x_flat = x.view(x.size(0), -1)\n",
    "        \n",
    "        # 计算损失\n",
    "        recon_loss = self.reconstruction_loss(recon_params, x_flat)\n",
    "        kld = self.kld_loss(mu, logvar)\n",
    "        \n",
    "        total_loss = recon_loss + beta * kld\n",
    "        \n",
    "        if self.reduction == 'sum':\n",
    "            return total_loss.sum()\n",
    "        elif self.reduction == 'mean':\n",
    "            return total_loss.mean()\n",
    "        else:\n",
    "            return total_loss              "
   ]
  },
  {
   "cell_type": "code",
   "execution_count": 8,
   "metadata": {},
   "outputs": [
    {
     "name": "stderr",
     "output_type": "stream",
     "text": [
      "100%|██████████| 469/469 [00:09<00:00, 50.50it/s]\n"
     ]
    },
    {
     "name": "stdout",
     "output_type": "stream",
     "text": [
      "Epoch 1: Average loss: 1.2636\n"
     ]
    },
    {
     "name": "stderr",
     "output_type": "stream",
     "text": [
      "100%|██████████| 469/469 [00:09<00:00, 51.61it/s]\n"
     ]
    },
    {
     "name": "stdout",
     "output_type": "stream",
     "text": [
      "Epoch 2: Average loss: 0.9913\n"
     ]
    },
    {
     "name": "stderr",
     "output_type": "stream",
     "text": [
      "100%|██████████| 469/469 [00:09<00:00, 50.12it/s]\n"
     ]
    },
    {
     "name": "stdout",
     "output_type": "stream",
     "text": [
      "Epoch 3: Average loss: 0.9518\n"
     ]
    },
    {
     "name": "stderr",
     "output_type": "stream",
     "text": [
      "100%|██████████| 469/469 [00:09<00:00, 51.02it/s]\n"
     ]
    },
    {
     "name": "stdout",
     "output_type": "stream",
     "text": [
      "Epoch 4: Average loss: 0.9361\n"
     ]
    },
    {
     "name": "stderr",
     "output_type": "stream",
     "text": [
      "100%|██████████| 469/469 [00:09<00:00, 50.61it/s]\n"
     ]
    },
    {
     "name": "stdout",
     "output_type": "stream",
     "text": [
      "Epoch 5: Average loss: 0.9262\n"
     ]
    },
    {
     "name": "stderr",
     "output_type": "stream",
     "text": [
      "100%|██████████| 469/469 [00:09<00:00, 51.13it/s]\n"
     ]
    },
    {
     "name": "stdout",
     "output_type": "stream",
     "text": [
      "Epoch 6: Average loss: 0.9133\n"
     ]
    },
    {
     "name": "stderr",
     "output_type": "stream",
     "text": [
      "100%|██████████| 469/469 [00:09<00:00, 50.88it/s]\n"
     ]
    },
    {
     "name": "stdout",
     "output_type": "stream",
     "text": [
      "Epoch 7: Average loss: 0.9047\n"
     ]
    },
    {
     "name": "stderr",
     "output_type": "stream",
     "text": [
      "100%|██████████| 469/469 [00:09<00:00, 51.94it/s]\n"
     ]
    },
    {
     "name": "stdout",
     "output_type": "stream",
     "text": [
      "Epoch 8: Average loss: 0.8984\n"
     ]
    },
    {
     "name": "stderr",
     "output_type": "stream",
     "text": [
      "100%|██████████| 469/469 [00:08<00:00, 53.73it/s]\n"
     ]
    },
    {
     "name": "stdout",
     "output_type": "stream",
     "text": [
      "Epoch 9: Average loss: 0.8921\n"
     ]
    },
    {
     "name": "stderr",
     "output_type": "stream",
     "text": [
      "100%|██████████| 469/469 [00:08<00:00, 54.32it/s]\n"
     ]
    },
    {
     "name": "stdout",
     "output_type": "stream",
     "text": [
      "Epoch 10: Average loss: 0.8892\n"
     ]
    },
    {
     "name": "stderr",
     "output_type": "stream",
     "text": [
      "100%|██████████| 469/469 [00:08<00:00, 54.67it/s]\n"
     ]
    },
    {
     "name": "stdout",
     "output_type": "stream",
     "text": [
      "Epoch 11: Average loss: 0.8848\n"
     ]
    },
    {
     "name": "stderr",
     "output_type": "stream",
     "text": [
      "100%|██████████| 469/469 [00:08<00:00, 52.30it/s]\n"
     ]
    },
    {
     "name": "stdout",
     "output_type": "stream",
     "text": [
      "Epoch 12: Average loss: 0.8805\n"
     ]
    },
    {
     "name": "stderr",
     "output_type": "stream",
     "text": [
      "100%|██████████| 469/469 [00:08<00:00, 53.16it/s]\n"
     ]
    },
    {
     "name": "stdout",
     "output_type": "stream",
     "text": [
      "Epoch 13: Average loss: 0.8765\n"
     ]
    },
    {
     "name": "stderr",
     "output_type": "stream",
     "text": [
      "100%|██████████| 469/469 [00:08<00:00, 52.86it/s]\n"
     ]
    },
    {
     "name": "stdout",
     "output_type": "stream",
     "text": [
      "Epoch 14: Average loss: 0.8731\n"
     ]
    },
    {
     "name": "stderr",
     "output_type": "stream",
     "text": [
      "100%|██████████| 469/469 [00:09<00:00, 51.96it/s]\n"
     ]
    },
    {
     "name": "stdout",
     "output_type": "stream",
     "text": [
      "Epoch 15: Average loss: 0.8709\n"
     ]
    },
    {
     "name": "stderr",
     "output_type": "stream",
     "text": [
      "100%|██████████| 469/469 [00:09<00:00, 52.05it/s]\n"
     ]
    },
    {
     "name": "stdout",
     "output_type": "stream",
     "text": [
      "Epoch 16: Average loss: 0.8687\n"
     ]
    },
    {
     "name": "stderr",
     "output_type": "stream",
     "text": [
      "100%|██████████| 469/469 [00:08<00:00, 53.27it/s]\n"
     ]
    },
    {
     "name": "stdout",
     "output_type": "stream",
     "text": [
      "Epoch 17: Average loss: 0.8674\n"
     ]
    },
    {
     "name": "stderr",
     "output_type": "stream",
     "text": [
      "100%|██████████| 469/469 [00:08<00:00, 52.36it/s]\n"
     ]
    },
    {
     "name": "stdout",
     "output_type": "stream",
     "text": [
      "Epoch 18: Average loss: 0.8663\n"
     ]
    },
    {
     "name": "stderr",
     "output_type": "stream",
     "text": [
      "100%|██████████| 469/469 [00:08<00:00, 52.57it/s]\n"
     ]
    },
    {
     "name": "stdout",
     "output_type": "stream",
     "text": [
      "Epoch 19: Average loss: 0.8647\n"
     ]
    },
    {
     "name": "stderr",
     "output_type": "stream",
     "text": [
      "100%|██████████| 469/469 [00:08<00:00, 52.32it/s]\n"
     ]
    },
    {
     "name": "stdout",
     "output_type": "stream",
     "text": [
      "Epoch 20: Average loss: 0.8631\n"
     ]
    },
    {
     "name": "stderr",
     "output_type": "stream",
     "text": [
      "100%|██████████| 469/469 [00:09<00:00, 52.08it/s]\n"
     ]
    },
    {
     "name": "stdout",
     "output_type": "stream",
     "text": [
      "Epoch 21: Average loss: 0.8618\n"
     ]
    },
    {
     "name": "stderr",
     "output_type": "stream",
     "text": [
      "100%|██████████| 469/469 [00:09<00:00, 48.86it/s]\n"
     ]
    },
    {
     "name": "stdout",
     "output_type": "stream",
     "text": [
      "Epoch 22: Average loss: 0.8623\n"
     ]
    },
    {
     "name": "stderr",
     "output_type": "stream",
     "text": [
      "100%|██████████| 469/469 [00:09<00:00, 51.55it/s]\n"
     ]
    },
    {
     "name": "stdout",
     "output_type": "stream",
     "text": [
      "Epoch 23: Average loss: 0.8601\n"
     ]
    },
    {
     "name": "stderr",
     "output_type": "stream",
     "text": [
      "100%|██████████| 469/469 [00:09<00:00, 50.64it/s]\n"
     ]
    },
    {
     "name": "stdout",
     "output_type": "stream",
     "text": [
      "Epoch 24: Average loss: 0.8604\n"
     ]
    },
    {
     "name": "stderr",
     "output_type": "stream",
     "text": [
      "100%|██████████| 469/469 [00:09<00:00, 51.89it/s]\n"
     ]
    },
    {
     "name": "stdout",
     "output_type": "stream",
     "text": [
      "Epoch 25: Average loss: 0.8594\n"
     ]
    },
    {
     "data": {
      "image/png": "[encoded data removed]",
      "text/plain": [
       "<Figure size 1600x400 with 16 Axes>"
      ]
     },
     "metadata": {},
     "output_type": "display_data"
    },
    {
     "data": {
      "image/png": "[encoded data removed]",
      "text/plain": [
       "<Figure size 1600x200 with 16 Axes>"
      ]
     },
     "metadata": {},
     "output_type": "display_data"
    }
   ],
   "source": [
    "# main\n",
    "\n",
    "# params\n",
    "input_dim = 784  # MNIST 图像大小 28x28=784\n",
    "hidden_dim = 400\n",
    "latent_dim = 20\n",
    "batch_size = 128\n",
    "epochs = 25\n",
    "learning_rate = 0.005\n",
    "device = torch.device(\"cuda\" if torch.cuda.is_available() else \"cpu\")\n",
    "\n",
    "# data operation\n",
    "transform = transforms.Compose([\n",
    "    transforms.ToTensor(),\n",
    "])\n",
    "train_dataset = datasets.MNIST(\n",
    "    root='./data', \n",
    "    train=True, \n",
    "    download=True, \n",
    "    transform=transform\n",
    ")\n",
    "train_loader = DataLoader(\n",
    "    train_dataset, \n",
    "    batch_size=batch_size, \n",
    "    shuffle=True\n",
    ")\n",
    "\n",
    "# init and optim\n",
    "model = VAE(input_dim, hidden_dim, latent_dim).to(device)\n",
    "optimizer = optim.Adam(model.parameters(), lr=learning_rate)\n",
    "loss_fn = ModernVAELoss(recon_type='bernoulli', beta=1.0)\n",
    "\n",
    "# train\n",
    "train_losses = []\n",
    "for epoch in range(1, epochs + 1):\n",
    "    model.train()\n",
    "    train_loss = 0\n",
    "    \n",
    "    for batch_idx, (data, _) in enumerate(tqdm(train_loader)):\n",
    "        data = data.to(device)\n",
    "        optimizer.zero_grad()\n",
    "        \n",
    "        recon_batch, mu, logvar = model(data)\n",
    "        loss = loss_fn(recon_batch, data.view(-1, 784), mu, logvar)\n",
    "        \n",
    "        loss.backward()\n",
    "        train_loss += loss.item()\n",
    "        optimizer.step()\n",
    "    \n",
    "    avg_loss = train_loss / len(train_loader.dataset)\n",
    "    train_losses.append(avg_loss)\n",
    "    print(f'Epoch {epoch}: Average loss: {avg_loss:.4f}')\n",
    "\n",
    "# showshow\n",
    "def plot_results(epoch):\n",
    "    \"\"\"显示原始图像和重构图像\"\"\"\n",
    "    model.eval()\n",
    "    with torch.no_grad():\n",
    "        \n",
    "        test_loader = DataLoader(\n",
    "            datasets.MNIST('./data', train=False, transform=transform),\n",
    "            batch_size=16, shuffle=True\n",
    "        )\n",
    "        data, _ = next(iter(test_loader))\n",
    "        data = data.to(device)\n",
    "        \n",
    "        recon, _, _ = model(data)\n",
    "        \n",
    "        fig, axes = plt.subplots(2, 8, figsize=(16, 4))\n",
    "        for i in range(8):\n",
    "            axes[0, i].imshow(data[i].cpu().numpy().squeeze(), cmap='gray')\n",
    "            axes[0, i].axis('off')\n",
    "            axes[1, i].imshow(recon[i].cpu().view(28, 28).numpy(), cmap='gray')\n",
    "            axes[1, i].axis('off')\n",
    "        plt.suptitle(f'Epoch {epoch}')\n",
    "        plt.show()\n",
    "\n",
    "def generate_samples(num_samples=16):\n",
    "    model.eval()\n",
    "    with torch.no_grad():\n",
    "        z = torch.randn(num_samples, latent_dim).to(device)\n",
    "        samples = model.decode(z).cpu()\n",
    "        threshold = 0.5\n",
    "        binary_samples = (samples > threshold).float()\n",
    "        fig, axes = plt.subplots(1, num_samples, figsize=(16, 2))\n",
    "        for i, ax in enumerate(axes):\n",
    "            ax.imshow(binary_samples[i].view(28, 28).numpy(), cmap='gray')\n",
    "            ax.axis('off')\n",
    "        plt.show()\n",
    "\n",
    "\n",
    "plot_results(epochs)\n",
    "generate_samples()"
   ]
  }
 ],
 "metadata": {
  "kernelspec": {
   "display_name": "py39",
   "language": "python",
   "name": "python3"
  },
  "language_info": {
   "codemirror_mode": {
    "name": "ipython",
    "version": 3
   },
   "file_extension": ".py",
   "mimetype": "text/x-python",
   "name": "python",
   "nbconvert_exporter": "python",
   "pygments_lexer": "ipython3",
   "version": "3.9.19"
  }
 },
 "nbformat": 4,
 "nbformat_minor": 2
}
